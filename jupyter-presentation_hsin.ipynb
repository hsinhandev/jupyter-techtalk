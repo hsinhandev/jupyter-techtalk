{
 "cells": [
  {
   "cell_type": "markdown",
   "id": "a1764cd7",
   "metadata": {
    "slideshow": {
     "slide_type": "slide"
    }
   },
   "source": [
    "# Enhancing your productivity with Jupyter Notebook\n",
    "<br/>\n",
    "<br/>\n",
    "<br/>\n",
    "<br/>\n",
    "<br/>\n",
    "<br/>\n",
    "<br/>\n",
    "Hsinhan Lin<br/>\n",
    "14/03/2022<br/>\n",
    "@Becode<br/>"
   ]
  },
  {
   "cell_type": "markdown",
   "id": "54f6a367",
   "metadata": {
    "slideshow": {
     "slide_type": "slide"
    }
   },
   "source": [
    "## Extension\n",
    "\n",
    "```bash\n",
    "$ pip install jupyter_contrib_nbextensions \n",
    "$ jupyter contrib nbextension install \n",
    "```"
   ]
  },
  {
   "cell_type": "markdown",
   "id": "626901b4",
   "metadata": {
    "slideshow": {
     "slide_type": "slide"
    }
   },
   "source": [
    "## Extension\n",
    "![list](assets/nbextension_list.png)"
   ]
  },
  {
   "cell_type": "markdown",
   "id": "d89120a8",
   "metadata": {
    "cell_style": "center",
    "slideshow": {
     "slide_type": "slide"
    }
   },
   "source": [
    "## Autocompletion\n",
    "- Hinterland\n",
    "- jupyter-tabine\n",
    "![formating](assets/autocomplete.gif)"
   ]
  },
  {
   "cell_type": "markdown",
   "id": "d04459f4",
   "metadata": {
    "cell_style": "center",
    "slideshow": {
     "slide_type": "fragment"
    }
   },
   "source": [
    "jupyter-tabine Installation\n",
    "```bash\n",
    "    pip3 install jupyter-tabnine --user\n",
    "    jupyter nbextension install --py jupyter_tabnine --user\n",
    "    jupyter nbextension enable --py jupyter_tabnine --user\n",
    "    jupyter serverextension enable --py jupyter_tabnine --user\n",
    "```\n"
   ]
  },
  {
   "cell_type": "code",
   "execution_count": null,
   "id": "e553148d",
   "metadata": {
    "slideshow": {
     "slide_type": "skip"
    }
   },
   "outputs": [],
   "source": []
  },
  {
   "cell_type": "markdown",
   "id": "b554dfa7",
   "metadata": {
    "cell_style": "split",
    "slideshow": {
     "slide_type": "slide"
    }
   },
   "source": [
    "## Code formatter\n",
    "![format](assets/code_prettifier.gif)"
   ]
  },
  {
   "cell_type": "markdown",
   "id": "719fe9cf",
   "metadata": {
    "cell_style": "split",
    "slideshow": {
     "slide_type": "fragment"
    }
   },
   "source": [
    "<br/>\n",
    "<br/>\n",
    "<br/>\n",
    "<br/>\n",
    "- Jupyter-black<br/>\n",
    "- Autopep8<br/>\n",
    "- Code Prettifier (yapf)<br/>"
   ]
  },
  {
   "cell_type": "markdown",
   "id": "6d570d8c",
   "metadata": {
    "cell_style": "center",
    "slideshow": {
     "slide_type": "slide"
    }
   },
   "source": [
    "## Code formatter\n",
    "\n",
    "- Jupyter-black\n",
    "```bash\n",
    "pip install black\n",
    "jupyter nbextension install https://github.com/drillan/jupyter-black/archive/master.zip --user\n",
    "jupyter nbextension enable jupyter-black-master/jupyter-black\n",
    "```\n",
    "\n",
    "- Autopep8<br/>\n",
    "```bash \n",
    "pip install autopep8\n",
    "```\n",
    "\n",
    "- Code Prettifier<br/>\n",
    " ```bash \n",
    " pip install yapf\n",
    " ```"
   ]
  },
  {
   "cell_type": "markdown",
   "id": "c5b0e9cb",
   "metadata": {
    "slideshow": {
     "slide_type": "slide"
    }
   },
   "source": [
    "## Table of content\n",
    "- Table of contents\n",
    "![toc](assets/toc.gif)"
   ]
  },
  {
   "cell_type": "markdown",
   "id": "d0aa97de",
   "metadata": {
    "slideshow": {
     "slide_type": "slide"
    }
   },
   "source": [
    "## More to explore\n",
    "![list](assets/list-more.png)\n",
    "### source\n",
    "- [Unofficial Jupyter Notebook Extensions\n",
    " doc](https://jupyter-contrib-nbextensions.readthedocs.io/en/latest/)\n",
    "- [12 Jupyter Notebook Extensions That Will Make Your Life Easier](https://towardsdatascience.com/12-jupyter-notebook-extensions-that-will-make-your-life-easier-e0aae0bd181)"
   ]
  },
  {
   "cell_type": "code",
   "execution_count": 34,
   "id": "17425f64",
   "metadata": {
    "scrolled": false,
    "slideshow": {
     "slide_type": "slide"
    }
   },
   "outputs": [
    {
     "name": "stdout",
     "output_type": "stream",
     "text": [
      "hello world\n"
     ]
    }
   ],
   "source": [
    "print(\"hello world\")"
   ]
  },
  {
   "cell_type": "markdown",
   "id": "d3a2aaa4",
   "metadata": {
    "slideshow": {
     "slide_type": "slide"
    }
   },
   "source": [
    "## Presentation\n",
    "Rise extension\n",
    "```bash\n",
    "pip install RISE\n",
    "jupyter-nbextension install rise --py --sys-prefix\n",
    "```"
   ]
  },
  {
   "cell_type": "code",
   "execution_count": null,
   "id": "b022ae12",
   "metadata": {
    "slideshow": {
     "slide_type": "skip"
    }
   },
   "outputs": [],
   "source": []
  },
  {
   "cell_type": "code",
   "execution_count": null,
   "id": "89ad5570",
   "metadata": {
    "slideshow": {
     "slide_type": "skip"
    }
   },
   "outputs": [],
   "source": []
  },
  {
   "cell_type": "code",
   "execution_count": null,
   "id": "e4047bbf",
   "metadata": {
    "slideshow": {
     "slide_type": "skip"
    }
   },
   "outputs": [],
   "source": []
  },
  {
   "cell_type": "code",
   "execution_count": null,
   "id": "4d76de40",
   "metadata": {
    "slideshow": {
     "slide_type": "skip"
    }
   },
   "outputs": [],
   "source": []
  },
  {
   "cell_type": "markdown",
   "id": "a76e7569",
   "metadata": {
    "slideshow": {
     "slide_type": "slide"
    }
   },
   "source": [
    "## Magic function "
   ]
  },
  {
   "cell_type": "code",
   "execution_count": null,
   "id": "08344469",
   "metadata": {
    "slideshow": {
     "slide_type": "fragment"
    }
   },
   "outputs": [],
   "source": [
    "# terminal\n",
    "%pip install numpy -q"
   ]
  },
  {
   "cell_type": "code",
   "execution_count": null,
   "id": "bc54adc3",
   "metadata": {
    "slideshow": {
     "slide_type": "notes"
    }
   },
   "outputs": [],
   "source": [
    "!pip list\n",
    "!pip install numpy\n",
    "!pip install numpy -q\n",
    "\n",
    "!ls\n",
    "!pwd"
   ]
  },
  {
   "cell_type": "code",
   "execution_count": 35,
   "id": "2c6b4351",
   "metadata": {
    "slideshow": {
     "slide_type": "fragment"
    }
   },
   "outputs": [
    {
     "name": "stdout",
     "output_type": "stream",
     "text": [
      "hello 👋\n"
     ]
    }
   ],
   "source": [
    "# py file\n",
    "%run say_hi.py"
   ]
  },
  {
   "cell_type": "code",
   "execution_count": null,
   "id": "d1ded9b4",
   "metadata": {
    "cell_style": "center",
    "slideshow": {
     "slide_type": "slide"
    }
   },
   "outputs": [],
   "source": [
    "# sql, R, juila\n",
    "%load_ext sql\n",
    "%%sql\n",
    "SELECT * FROM <table_name>;"
   ]
  },
  {
   "cell_type": "code",
   "execution_count": 36,
   "id": "b0f37101",
   "metadata": {
    "slideshow": {
     "slide_type": "subslide"
    }
   },
   "outputs": [
    {
     "name": "stdout",
     "output_type": "stream",
     "text": [
      "434 ns ± 12 ns per loop (mean ± std. dev. of 7 runs, 1000000 loops each)\n"
     ]
    }
   ],
   "source": [
    "# %timeit\n",
    "%timeit sum(range(100))"
   ]
  },
  {
   "cell_type": "code",
   "execution_count": null,
   "id": "91f0f935",
   "metadata": {
    "slideshow": {
     "slide_type": "fragment"
    }
   },
   "outputs": [],
   "source": [
    "%%timeit\n",
    "total = 0\n",
    "for i in range(100):\n",
    "    for j in range(100):\n",
    "        total += i * (-1) ** j"
   ]
  },
  {
   "cell_type": "code",
   "execution_count": null,
   "id": "314df9ee",
   "metadata": {
    "slideshow": {
     "slide_type": "slide"
    }
   },
   "outputs": [],
   "source": [
    "# use %store to pass variable\n",
    "%store df #step_1.ipynb\n",
    "\n",
    "%store -r df #consume your variable"
   ]
  },
  {
   "cell_type": "markdown",
   "id": "81e5cf3f",
   "metadata": {
    "slideshow": {
     "slide_type": "fragment"
    }
   },
   "source": [
    "## More about magic function\n",
    "- [jupyter magic function](https://towardsdatascience.com/jupyter-notebook-hints-1f26b08429ad)"
   ]
  },
  {
   "cell_type": "markdown",
   "id": "84c77b6e",
   "metadata": {
    "slideshow": {
     "slide_type": "slide"
    }
   },
   "source": [
    "## Summarize \n",
    "- Usage of Jupyter extensions\n",
    "- Magic function `%`"
   ]
  }
 ],
 "metadata": {
  "celltoolbar": "Slideshow",
  "kernelspec": {
   "display_name": "Python 3 (ipykernel)",
   "language": "python",
   "name": "python3"
  },
  "language_info": {
   "codemirror_mode": {
    "name": "ipython",
    "version": 3
   },
   "file_extension": ".py",
   "mimetype": "text/x-python",
   "name": "python",
   "nbconvert_exporter": "python",
   "pygments_lexer": "ipython3",
   "version": "3.9.10"
  },
  "rise": {
   "theme": "serif",
   "transition": "simple"
  },
  "toc": {
   "base_numbering": 1,
   "nav_menu": {},
   "number_sections": false,
   "sideBar": true,
   "skip_h1_title": false,
   "title_cell": "Table of Contents",
   "title_sidebar": "Contents",
   "toc_cell": false,
   "toc_position": {
    "height": "calc(100% - 180px)",
    "left": "10px",
    "top": "150px",
    "width": "307.188px"
   },
   "toc_section_display": true,
   "toc_window_display": false
  }
 },
 "nbformat": 4,
 "nbformat_minor": 5
}
